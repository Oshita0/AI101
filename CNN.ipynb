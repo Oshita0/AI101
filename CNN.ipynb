{
  "nbformat": 4,
  "nbformat_minor": 0,
  "metadata": {
    "colab": {
      "provenance": []
    },
    "kernelspec": {
      "name": "python3",
      "display_name": "Python 3"
    },
    "language_info": {
      "name": "python"
    }
  },
  "cells": [
    {
      "cell_type": "code",
      "source": [
        "import torch\n",
        "import torch.nn as nn\n",
        "import torch.optim as optim\n",
        "import torchvision\n",
        "import torchvision.transforms as transforms\n",
        "from torch.utils.data import DataLoader\n",
        "import time\n",
        "import matplotlib.pyplot as plt"
      ],
      "metadata": {
        "id": "-K6U41TThQQL"
      },
      "execution_count": 19,
      "outputs": []
    },
    {
      "cell_type": "code",
      "source": [
        "device = torch.device(\"cuda\" if torch.cuda.is_available() else \"cpu\")\n",
        "print(f\"Using Device : {device}\")"
      ],
      "metadata": {
        "colab": {
          "base_uri": "https://localhost:8080/"
        },
        "id": "_57w4BCShT9z",
        "outputId": "751c1451-fdba-482b-9467-977d57fe38bc"
      },
      "execution_count": 20,
      "outputs": [
        {
          "output_type": "stream",
          "name": "stdout",
          "text": [
            "Using Device : cpu\n"
          ]
        }
      ]
    },
    {
      "cell_type": "code",
      "source": [
        "transform = transforms.Compose([\n",
        "    transforms.ToTensor(),\n",
        "    transforms.Normalize((0.1307,), (0.3081,))\n",
        "])"
      ],
      "metadata": {
        "id": "cw1k4rH0hboD"
      },
      "execution_count": 21,
      "outputs": []
    },
    {
      "cell_type": "code",
      "source": [
        "train_dataset = torchvision.datasets.MNIST(root='./data', train=True, download=True, transform=transform)\n",
        "test_dataset = torchvision.datasets.MNIST(root='./data', train=False, download=True, transform=transform)"
      ],
      "metadata": {
        "id": "WAjLRCk6hiJk"
      },
      "execution_count": 22,
      "outputs": []
    },
    {
      "cell_type": "code",
      "source": [
        "train_loader = DataLoader(train_dataset, batch_size=64, shuffle=True)\n",
        "test_loader = DataLoader(test_dataset, batch_size=1000, shuffle=False)"
      ],
      "metadata": {
        "id": "KmGaD3J2huwD"
      },
      "execution_count": 23,
      "outputs": []
    },
    {
      "cell_type": "code",
      "source": [
        "fig, axes = plt.subplots(1, 10, figsize=(15, 2))\n",
        "\n",
        "for i in range(10):\n",
        "    image, label = train_dataset[i]\n",
        "    axes[i].imshow(image.squeeze(), cmap='gray')\n",
        "    axes[i].set_title(f\"Label: {label}\")\n",
        "    axes[i].axis('off')\n",
        "\n",
        "plt.show()"
      ],
      "metadata": {
        "colab": {
          "base_uri": "https://localhost:8080/",
          "height": 156
        },
        "id": "eFzFncN2hx_q",
        "outputId": "20735325-ee04-49f8-d6a2-230e600d9e1f"
      },
      "execution_count": 24,
      "outputs": [
        {
          "output_type": "display_data",
          "data": {
            "text/plain": [
              "<Figure size 1500x200 with 10 Axes>"
            ],
            "image/png": "[encoded data removed]"
          },
          "metadata": {}
        }
      ]
    },
    {
      "cell_type": "markdown",
      "source": [],
      "metadata": {
        "id": "pSZbWpjBha7y"
      }
    },
    {
      "cell_type": "code",
      "source": [
        "class HighAccuracyCNN(nn.Module):\n",
        "    def __init__(self):\n",
        "        super(HighAccuracyCNN, self).__init__()\n",
        "        self.conv1 = nn.Conv2d(1, 32, kernel_size=3, stride=1, padding=1)\n",
        "        self.conv2 = nn.Conv2d(32, 64, kernel_size=3, stride=1, padding=1)\n",
        "        self.conv3 = nn.Conv2d(64, 128, kernel_size=3, stride=1, padding=1)\n",
        "        self.pool = nn.MaxPool2d(kernel_size=2, stride=2)\n",
        "        self.fc1 = nn.Linear(128 * 3 * 3, 512)\n",
        "        self.fc2 = nn.Linear(512, 256)\n",
        "        self.fc3 = nn.Linear(256, 10)\n",
        "        self.relu = nn.ReLU()\n",
        "        self.dropout = nn.Dropout(0.5)\n",
        "\n",
        "    def forward(self, x):\n",
        "        x = self.relu(self.conv1(x))\n",
        "        x = self.pool(x)\n",
        "        x = self.relu(self.conv2(x))\n",
        "        x = self.pool(x)\n",
        "        x = self.relu(self.conv3(x))\n",
        "        x = self.pool(x)\n",
        "        x = x.view(-1, 128 * 3 * 3)\n",
        "        x = self.relu(self.fc1(x))\n",
        "        x = self.dropout(x)\n",
        "        x = self.relu(self.fc2(x))\n",
        "        x = self.fc3(x)\n",
        "\n",
        "        return x"
      ],
      "metadata": {
        "id": "HSR62l_QiTqn"
      },
      "execution_count": 27,
      "outputs": []
    },
    {
      "cell_type": "code",
      "source": [
        "start_time = time.time()\n",
        "model=CNN_example().to(device)\n",
        "criterion=nn.CrossEntropyLoss()\n",
        "optimizer=optim.Adam(model.parameters(),lr=0.001)\n",
        "num_epochs=5\n",
        "for epoch in range(num_epochs):\n",
        "    model.train()\n",
        "    running_loss=0\n",
        "    for i,(images,labels) in enumerate(train_loader):\n",
        "        images,labels=images.to(device), labels.to(device)\n",
        "\n",
        "        optimizer.zero_grad()\n",
        "        outputs=model(images)\n",
        "        loss=criterion(outputs,labels)\n",
        "        loss.backward()\n",
        "        optimizer.step()\n",
        "\n",
        "        running_loss+=loss.item()\n",
        "\n",
        "        if(i+1)%100==0:\n",
        "            print(f'Epoch [{epoch+1}/{num_epochs}], Step [{i+1}/{len(train_loader)}], Loss: {running_loss/100:.4f}')\n",
        "            running_loss = 0.0\n",
        "end_time = time.time()\n",
        "execution_time = end_time - start_time\n",
        "print(f\"Time taken: {execution_time:.4f} seconds\")"
      ],
      "metadata": {
        "colab": {
          "base_uri": "https://localhost:8080/"
        },
        "id": "8M1jVQUviXK3",
        "outputId": "db6ee5c4-4f04-4480-a1c7-e0a3c75833d6"
      },
      "execution_count": 28,
      "outputs": [
        {
          "output_type": "stream",
          "name": "stdout",
          "text": [
            "Epoch [1/5], Step [100/938], Loss: 0.6570\n",
            "Epoch [1/5], Step [200/938], Loss: 0.1555\n",
            "Epoch [1/5], Step [300/938], Loss: 0.1163\n",
            "Epoch [1/5], Step [400/938], Loss: 0.0814\n",
            "Epoch [1/5], Step [500/938], Loss: 0.0686\n",
            "Epoch [1/5], Step [600/938], Loss: 0.0829\n",
            "Epoch [1/5], Step [700/938], Loss: 0.0619\n",
            "Epoch [1/5], Step [800/938], Loss: 0.0554\n",
            "Epoch [1/5], Step [900/938], Loss: 0.0594\n",
            "Epoch [2/5], Step [100/938], Loss: 0.0474\n",
            "Epoch [2/5], Step [200/938], Loss: 0.0425\n",
            "Epoch [2/5], Step [300/938], Loss: 0.0451\n",
            "Epoch [2/5], Step [400/938], Loss: 0.0380\n",
            "Epoch [2/5], Step [500/938], Loss: 0.0365\n",
            "Epoch [2/5], Step [600/938], Loss: 0.0434\n",
            "Epoch [2/5], Step [700/938], Loss: 0.0351\n",
            "Epoch [2/5], Step [800/938], Loss: 0.0460\n",
            "Epoch [2/5], Step [900/938], Loss: 0.0407\n",
            "Epoch [3/5], Step [100/938], Loss: 0.0356\n",
            "Epoch [3/5], Step [200/938], Loss: 0.0281\n",
            "Epoch [3/5], Step [300/938], Loss: 0.0333\n",
            "Epoch [3/5], Step [400/938], Loss: 0.0274\n",
            "Epoch [3/5], Step [500/938], Loss: 0.0369\n",
            "Epoch [3/5], Step [600/938], Loss: 0.0275\n",
            "Epoch [3/5], Step [700/938], Loss: 0.0233\n",
            "Epoch [3/5], Step [800/938], Loss: 0.0323\n",
            "Epoch [3/5], Step [900/938], Loss: 0.0300\n",
            "Epoch [4/5], Step [100/938], Loss: 0.0226\n",
            "Epoch [4/5], Step [200/938], Loss: 0.0249\n",
            "Epoch [4/5], Step [300/938], Loss: 0.0236\n",
            "Epoch [4/5], Step [400/938], Loss: 0.0204\n",
            "Epoch [4/5], Step [500/938], Loss: 0.0191\n",
            "Epoch [4/5], Step [600/938], Loss: 0.0183\n",
            "Epoch [4/5], Step [700/938], Loss: 0.0227\n",
            "Epoch [4/5], Step [800/938], Loss: 0.0291\n",
            "Epoch [4/5], Step [900/938], Loss: 0.0283\n",
            "Epoch [5/5], Step [100/938], Loss: 0.0155\n",
            "Epoch [5/5], Step [200/938], Loss: 0.0135\n",
            "Epoch [5/5], Step [300/938], Loss: 0.0170\n",
            "Epoch [5/5], Step [400/938], Loss: 0.0167\n",
            "Epoch [5/5], Step [500/938], Loss: 0.0253\n",
            "Epoch [5/5], Step [600/938], Loss: 0.0195\n",
            "Epoch [5/5], Step [700/938], Loss: 0.0177\n",
            "Epoch [5/5], Step [800/938], Loss: 0.0246\n",
            "Epoch [5/5], Step [900/938], Loss: 0.0177\n",
            "Time taken: 579.6052 seconds\n"
          ]
        }
      ]
    },
    {
      "cell_type": "code",
      "source": [
        "model.eval()\n",
        "correct=0\n",
        "total = 0\n",
        "with torch.no_grad():\n",
        "    for images, labels in test_loader:\n",
        "        images, labels = images.to(device), labels.to(device)\n",
        "        outputs = model(images)\n",
        "\n",
        "        _, predicted = torch.max(outputs.data, 1)\n",
        "        total += labels.size(0)\n",
        "        correct += (predicted == labels).sum().item()\n",
        "\n",
        "accuracy = 100 * correct / total\n",
        "print(f'Test Accuracy: {accuracy:.2f}%')"
      ],
      "metadata": {
        "colab": {
          "base_uri": "https://localhost:8080/"
        },
        "id": "2yfJ43YulB_0",
        "outputId": "99b9d106-9e06-4e15-a233-efda9075353a"
      },
      "execution_count": 29,
      "outputs": [
        {
          "output_type": "stream",
          "name": "stdout",
          "text": [
            "Test Accuracy: 99.15%\n"
          ]
        }
      ]
    }
  ]
}